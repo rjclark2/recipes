{
 "cells": [
  {
   "cell_type": "code",
   "execution_count": 1,
   "metadata": {},
   "outputs": [],
   "source": [
    "import pandas as pd\n",
    "import numpy as np"
   ]
  },
  {
   "cell_type": "code",
   "execution_count": 1,
   "metadata": {},
   "outputs": [
    {
     "data": {
      "text/plain": [
       "True"
      ]
     },
     "execution_count": 1,
     "metadata": {},
     "output_type": "execute_result"
    }
   ],
   "source": []
  },
  {
   "cell_type": "code",
   "execution_count": 2,
   "metadata": {},
   "outputs": [],
   "source": [
    "df3 = pd.read_json('json/arall.json')"
   ]
  },
  {
   "cell_type": "code",
   "execution_count": 3,
   "metadata": {},
   "outputs": [],
   "source": [
    "df = pd.read_json('json/arall.json')"
   ]
  },
  {
   "cell_type": "code",
   "execution_count": 4,
   "metadata": {},
   "outputs": [
    {
     "name": "stdout",
     "output_type": "stream",
     "text": [
      "<class 'pandas.core.frame.DataFrame'>\n",
      "RangeIndex: 30020 entries, 0 to 30019\n",
      "Data columns (total 19 columns):\n",
      " #   Column                     Non-Null Count  Dtype \n",
      "---  ------                     --------------  ----- \n",
      " 0   Recipe Name                30020 non-null  object\n",
      " 1   Description                30020 non-null  object\n",
      " 2   Ingredients                30020 non-null  object\n",
      " 3   Original Recipe Website    30020 non-null  object\n",
      " 4   Author                     29828 non-null  object\n",
      " 5   Instructions               30020 non-null  object\n",
      " 6   Total Time                 27085 non-null  object\n",
      " 7   Preperation Time           26937 non-null  object\n",
      " 8   Cooking Time               22430 non-null  object\n",
      " 9   Number of Servings         30020 non-null  int64 \n",
      " 10  Calories per Serving       30020 non-null  object\n",
      " 11  Fat per Serving            29483 non-null  object\n",
      " 12  Carbohydrates per Serving  29860 non-null  object\n",
      " 13  Protein per Serving        29719 non-null  object\n",
      " 14  Cholesterol per Serving    24843 non-null  object\n",
      " 15  Sodium per Serving         29678 non-null  object\n",
      " 16  Number of Ratings          30020 non-null  int64 \n",
      " 17  Average Rating             30020 non-null  object\n",
      " 18  pubished                   30020 non-null  object\n",
      "dtypes: int64(2), object(17)\n",
      "memory usage: 4.4+ MB\n"
     ]
    }
   ],
   "source": [
    "df.info()"
   ]
  },
  {
   "cell_type": "code",
   "execution_count": 5,
   "metadata": {},
   "outputs": [],
   "source": [
    "df = df.dropna()\n",
    "df = df.reset_index(drop=True)"
   ]
  },
  {
   "cell_type": "code",
   "execution_count": 6,
   "metadata": {},
   "outputs": [
    {
     "name": "stdout",
     "output_type": "stream",
     "text": [
      "<class 'pandas.core.frame.DataFrame'>\n",
      "RangeIndex: 19130 entries, 0 to 19129\n",
      "Data columns (total 19 columns):\n",
      " #   Column                     Non-Null Count  Dtype \n",
      "---  ------                     --------------  ----- \n",
      " 0   Recipe Name                19130 non-null  object\n",
      " 1   Description                19130 non-null  object\n",
      " 2   Ingredients                19130 non-null  object\n",
      " 3   Original Recipe Website    19130 non-null  object\n",
      " 4   Author                     19130 non-null  object\n",
      " 5   Instructions               19130 non-null  object\n",
      " 6   Total Time                 19130 non-null  object\n",
      " 7   Preperation Time           19130 non-null  object\n",
      " 8   Cooking Time               19130 non-null  object\n",
      " 9   Number of Servings         19130 non-null  int64 \n",
      " 10  Calories per Serving       19130 non-null  object\n",
      " 11  Fat per Serving            19130 non-null  object\n",
      " 12  Carbohydrates per Serving  19130 non-null  object\n",
      " 13  Protein per Serving        19130 non-null  object\n",
      " 14  Cholesterol per Serving    19130 non-null  object\n",
      " 15  Sodium per Serving         19130 non-null  object\n",
      " 16  Number of Ratings          19130 non-null  int64 \n",
      " 17  Average Rating             19130 non-null  object\n",
      " 18  pubished                   19130 non-null  object\n",
      "dtypes: int64(2), object(17)\n",
      "memory usage: 2.8+ MB\n"
     ]
    }
   ],
   "source": [
    "df.info()"
   ]
  },
  {
   "cell_type": "code",
   "execution_count": 7,
   "metadata": {},
   "outputs": [],
   "source": [
    "df['lname'] = df['Recipe Name'].str.split().apply(len)\n",
    "df['ldesc'] = df['Description'].str.split().apply(len)\n",
    "df['lingredients'] = df['Ingredients'].apply(len)\n"
   ]
  },
  {
   "cell_type": "code",
   "execution_count": 8,
   "metadata": {},
   "outputs": [],
   "source": [
    "df['Total Time'] = df['Total Time'].str.replace('hrs','hours').str.replace('hr','hour').str.replace('mins','minutes')\n",
    "df['Total Time'] = df[~df['Total Time'].str.contains('week')]['Total Time']\n",
    "df['Total Time'] = df['Total Time'].apply(pd.Timedelta)"
   ]
  },
  {
   "cell_type": "code",
   "execution_count": 9,
   "metadata": {},
   "outputs": [],
   "source": [
    "df['Preperation Time'] = df['Preperation Time'].str.replace('hrs','hours').str.replace('hr','hour').str.replace('mins','minutes')\n",
    "df['Preperation Time'] = df[~df['Preperation Time'].str.contains('week')]['Preperation Time']\n",
    "df['Preperation Time'] = df['Preperation Time'].apply(pd.Timedelta)"
   ]
  },
  {
   "cell_type": "code",
   "execution_count": 10,
   "metadata": {},
   "outputs": [],
   "source": [
    "df['Cooking Time'] = df['Cooking Time'].str.replace('hrs','hours').str.replace('hr','hour').str.replace('mins','minutes')\n",
    "df['Cooking Time'] = df[~df['Cooking Time'].str.contains('week')]['Cooking Time']\n",
    "df['Cooking Time'] = df['Cooking Time'].apply(pd.Timedelta)"
   ]
  },
  {
   "cell_type": "code",
   "execution_count": 11,
   "metadata": {},
   "outputs": [],
   "source": [
    "df['Carbohydrates per Serving'] = df['Carbohydrates per Serving'].str.replace('g','').astype(float)"
   ]
  },
  {
   "cell_type": "code",
   "execution_count": 25,
   "metadata": {},
   "outputs": [],
   "source": [
    "df['published']=df.pubished.apply(lambda x: x[0])"
   ]
  },
  {
   "cell_type": "code",
   "execution_count": 26,
   "metadata": {},
   "outputs": [
    {
     "data": {
      "text/plain": [
       "0        1998-05-09T04:07:06.000Z\n",
       "1        1998-05-06T02:48:41.000Z\n",
       "2        1998-05-12T13:30:08.000Z\n",
       "3        1998-05-12T17:13:00.000Z\n",
       "4        1998-06-26T21:24:53.000Z\n",
       "                   ...           \n",
       "19125    2018-03-21T16:22:47.000Z\n",
       "19126    2018-03-21T16:22:47.000Z\n",
       "19127    2020-01-16T08:50:12.000Z\n",
       "19128    2020-06-19T03:07:16.000Z\n",
       "19129    2020-06-19T03:07:17.000Z\n",
       "Name: published, Length: 19119, dtype: object"
      ]
     },
     "execution_count": 26,
     "metadata": {},
     "output_type": "execute_result"
    }
   ],
   "source": [
    "df['published']"
   ]
  },
  {
   "cell_type": "code",
   "execution_count": 12,
   "metadata": {},
   "outputs": [],
   "source": [
    "df = df.dropna()"
   ]
  },
  {
   "cell_type": "code",
   "execution_count": 13,
   "metadata": {},
   "outputs": [],
   "source": [
    "from datetime import timedelta"
   ]
  },
  {
   "cell_type": "code",
   "execution_count": 27,
   "metadata": {},
   "outputs": [
    {
     "data": {
      "text/html": [
       "<div>\n",
       "<style scoped>\n",
       "    .dataframe tbody tr th:only-of-type {\n",
       "        vertical-align: middle;\n",
       "    }\n",
       "\n",
       "    .dataframe tbody tr th {\n",
       "        vertical-align: top;\n",
       "    }\n",
       "\n",
       "    .dataframe thead th {\n",
       "        text-align: right;\n",
       "    }\n",
       "</style>\n",
       "<table border=\"1\" class=\"dataframe\">\n",
       "  <thead>\n",
       "    <tr style=\"text-align: right;\">\n",
       "      <th></th>\n",
       "      <th>Recipe Name</th>\n",
       "      <th>Description</th>\n",
       "      <th>Ingredients</th>\n",
       "      <th>Original Recipe Website</th>\n",
       "      <th>Author</th>\n",
       "      <th>Instructions</th>\n",
       "      <th>Total Time</th>\n",
       "      <th>Preperation Time</th>\n",
       "      <th>Cooking Time</th>\n",
       "      <th>Number of Servings</th>\n",
       "      <th>...</th>\n",
       "      <th>Protein per Serving</th>\n",
       "      <th>Cholesterol per Serving</th>\n",
       "      <th>Sodium per Serving</th>\n",
       "      <th>Number of Ratings</th>\n",
       "      <th>Average Rating</th>\n",
       "      <th>pubished</th>\n",
       "      <th>lname</th>\n",
       "      <th>ldesc</th>\n",
       "      <th>lingredients</th>\n",
       "      <th>published</th>\n",
       "    </tr>\n",
       "  </thead>\n",
       "  <tbody>\n",
       "    <tr>\n",
       "      <th>0</th>\n",
       "      <td>Orange Buns</td>\n",
       "      <td>You can make these into braids or buns. Frost ...</td>\n",
       "      <td>[¼ cup butter, 1 teaspoon white sugar, 1 cup h...</td>\n",
       "      <td>https://www.allrecipes.com/recipe/6668/orange-...</td>\n",
       "      <td>DeeDee Henderson</td>\n",
       "      <td>[Stir butter and 1 teaspoon sugar into the hot...</td>\n",
       "      <td>0 days 02:50:00</td>\n",
       "      <td>0 days 00:45:00</td>\n",
       "      <td>0 days 00:20:00</td>\n",
       "      <td>30</td>\n",
       "      <td>...</td>\n",
       "      <td>4.4g</td>\n",
       "      <td>17.1mg</td>\n",
       "      <td>97.4mg</td>\n",
       "      <td>7</td>\n",
       "      <td>[5, 2, 0, 0, 0]</td>\n",
       "      <td>[1998-05-09T04:07:06.000Z, 2010-09-27T17:36:46...</td>\n",
       "      <td>2</td>\n",
       "      <td>21</td>\n",
       "      <td>10</td>\n",
       "      <td>1998-05-09T04:07:06.000Z</td>\n",
       "    </tr>\n",
       "    <tr>\n",
       "      <th>1</th>\n",
       "      <td>The Best Corn Bread You'll Ever Eat</td>\n",
       "      <td>A soft, moist cornbread center with a crunchy ...</td>\n",
       "      <td>[1  egg, 1 ⅓ cups milk, ¼ cup vegetable oil, 2...</td>\n",
       "      <td>https://www.allrecipes.com/recipe/6675/the-bes...</td>\n",
       "      <td>Debbie Rowe</td>\n",
       "      <td>[Heat oven to 425 degrees F (220 degrees C).  ...</td>\n",
       "      <td>0 days 00:35:00</td>\n",
       "      <td>0 days 00:05:00</td>\n",
       "      <td>0 days 00:30:00</td>\n",
       "      <td>8</td>\n",
       "      <td>...</td>\n",
       "      <td>6.4g</td>\n",
       "      <td>39.2mg</td>\n",
       "      <td>772.1mg</td>\n",
       "      <td>87</td>\n",
       "      <td>[37, 15, 14, 7, 14]</td>\n",
       "      <td>[1998-05-06T02:48:41.000Z, 2005-10-12T17:23:26...</td>\n",
       "      <td>7</td>\n",
       "      <td>9</td>\n",
       "      <td>6</td>\n",
       "      <td>1998-05-06T02:48:41.000Z</td>\n",
       "    </tr>\n",
       "    <tr>\n",
       "      <th>2</th>\n",
       "      <td>Banana Bread</td>\n",
       "      <td>This is our family favorite.</td>\n",
       "      <td>[1 ½ cups all-purpose flour, 1 teaspoon baking...</td>\n",
       "      <td>https://www.allrecipes.com/recipe/6687/banana-...</td>\n",
       "      <td>Nikki</td>\n",
       "      <td>[Grease and flour two 7x3 inch loaf pans.  Pre...</td>\n",
       "      <td>0 days 01:15:00</td>\n",
       "      <td>0 days 00:15:00</td>\n",
       "      <td>0 days 01:00:00</td>\n",
       "      <td>16</td>\n",
       "      <td>...</td>\n",
       "      <td>2.3g</td>\n",
       "      <td>30.9mg</td>\n",
       "      <td>181mg</td>\n",
       "      <td>1655</td>\n",
       "      <td>[1278, 293, 55, 18, 11]</td>\n",
       "      <td>[1998-05-12T13:30:08.000Z, 2006-09-17T04:00:04...</td>\n",
       "      <td>2</td>\n",
       "      <td>5</td>\n",
       "      <td>7</td>\n",
       "      <td>1998-05-12T13:30:08.000Z</td>\n",
       "    </tr>\n",
       "    <tr>\n",
       "      <th>3</th>\n",
       "      <td>Mother's Banana Bread</td>\n",
       "      <td>This is an old recipe that belonged to my moth...</td>\n",
       "      <td>[1 ¾ cups all-purpose flour, 2 teaspoons bakin...</td>\n",
       "      <td>https://www.allrecipes.com/recipe/6690/mothers...</td>\n",
       "      <td>Carol</td>\n",
       "      <td>[Grease an 8x4 inch loaf pan.  Preheat oven to...</td>\n",
       "      <td>0 days 01:15:00</td>\n",
       "      <td>0 days 00:15:00</td>\n",
       "      <td>0 days 01:00:00</td>\n",
       "      <td>12</td>\n",
       "      <td>...</td>\n",
       "      <td>3.9g</td>\n",
       "      <td>44.6mg</td>\n",
       "      <td>253mg</td>\n",
       "      <td>293</td>\n",
       "      <td>[188, 71, 22, 4, 8]</td>\n",
       "      <td>[1998-05-12T17:13:00.000Z, 2003-08-11T23:18:19...</td>\n",
       "      <td>3</td>\n",
       "      <td>44</td>\n",
       "      <td>9</td>\n",
       "      <td>1998-05-12T17:13:00.000Z</td>\n",
       "    </tr>\n",
       "    <tr>\n",
       "      <th>4</th>\n",
       "      <td>Babka I</td>\n",
       "      <td>Traditional Polish Easter bread. Serve as a co...</td>\n",
       "      <td>[2 cups milk, ½ pound unsalted butter, at room...</td>\n",
       "      <td>https://www.allrecipes.com/recipe/6711/babka-i/</td>\n",
       "      <td>JJOHN32</td>\n",
       "      <td>[In a small saucepan, heat milk until just bel...</td>\n",
       "      <td>0 days 04:55:00</td>\n",
       "      <td>0 days 00:45:00</td>\n",
       "      <td>0 days 00:40:00</td>\n",
       "      <td>24</td>\n",
       "      <td>...</td>\n",
       "      <td>10.6g</td>\n",
       "      <td>99mg</td>\n",
       "      <td>141.5mg</td>\n",
       "      <td>19</td>\n",
       "      <td>[15, 4, 0, 0, 0]</td>\n",
       "      <td>[1998-06-26T21:24:53.000Z, 2005-02-21T13:17:36...</td>\n",
       "      <td>2</td>\n",
       "      <td>20</td>\n",
       "      <td>23</td>\n",
       "      <td>1998-06-26T21:24:53.000Z</td>\n",
       "    </tr>\n",
       "  </tbody>\n",
       "</table>\n",
       "<p>5 rows × 23 columns</p>\n",
       "</div>"
      ],
      "text/plain": [
       "                           Recipe Name  \\\n",
       "0                          Orange Buns   \n",
       "1  The Best Corn Bread You'll Ever Eat   \n",
       "2                         Banana Bread   \n",
       "3                Mother's Banana Bread   \n",
       "4                              Babka I   \n",
       "\n",
       "                                         Description  \\\n",
       "0  You can make these into braids or buns. Frost ...   \n",
       "1  A soft, moist cornbread center with a crunchy ...   \n",
       "2                       This is our family favorite.   \n",
       "3  This is an old recipe that belonged to my moth...   \n",
       "4  Traditional Polish Easter bread. Serve as a co...   \n",
       "\n",
       "                                         Ingredients  \\\n",
       "0  [¼ cup butter, 1 teaspoon white sugar, 1 cup h...   \n",
       "1  [1  egg, 1 ⅓ cups milk, ¼ cup vegetable oil, 2...   \n",
       "2  [1 ½ cups all-purpose flour, 1 teaspoon baking...   \n",
       "3  [1 ¾ cups all-purpose flour, 2 teaspoons bakin...   \n",
       "4  [2 cups milk, ½ pound unsalted butter, at room...   \n",
       "\n",
       "                             Original Recipe Website            Author  \\\n",
       "0  https://www.allrecipes.com/recipe/6668/orange-...  DeeDee Henderson   \n",
       "1  https://www.allrecipes.com/recipe/6675/the-bes...       Debbie Rowe   \n",
       "2  https://www.allrecipes.com/recipe/6687/banana-...             Nikki   \n",
       "3  https://www.allrecipes.com/recipe/6690/mothers...             Carol   \n",
       "4    https://www.allrecipes.com/recipe/6711/babka-i/           JJOHN32   \n",
       "\n",
       "                                        Instructions      Total Time  \\\n",
       "0  [Stir butter and 1 teaspoon sugar into the hot... 0 days 02:50:00   \n",
       "1  [Heat oven to 425 degrees F (220 degrees C).  ... 0 days 00:35:00   \n",
       "2  [Grease and flour two 7x3 inch loaf pans.  Pre... 0 days 01:15:00   \n",
       "3  [Grease an 8x4 inch loaf pan.  Preheat oven to... 0 days 01:15:00   \n",
       "4  [In a small saucepan, heat milk until just bel... 0 days 04:55:00   \n",
       "\n",
       "  Preperation Time    Cooking Time  Number of Servings  ...  \\\n",
       "0  0 days 00:45:00 0 days 00:20:00                  30  ...   \n",
       "1  0 days 00:05:00 0 days 00:30:00                   8  ...   \n",
       "2  0 days 00:15:00 0 days 01:00:00                  16  ...   \n",
       "3  0 days 00:15:00 0 days 01:00:00                  12  ...   \n",
       "4  0 days 00:45:00 0 days 00:40:00                  24  ...   \n",
       "\n",
       "  Protein per Serving Cholesterol per Serving  Sodium per Serving  \\\n",
       "0                4.4g                  17.1mg              97.4mg   \n",
       "1                6.4g                  39.2mg             772.1mg   \n",
       "2                2.3g                  30.9mg               181mg   \n",
       "3                3.9g                  44.6mg               253mg   \n",
       "4               10.6g                    99mg             141.5mg   \n",
       "\n",
       "  Number of Ratings           Average Rating  \\\n",
       "0                 7          [5, 2, 0, 0, 0]   \n",
       "1                87      [37, 15, 14, 7, 14]   \n",
       "2              1655  [1278, 293, 55, 18, 11]   \n",
       "3               293      [188, 71, 22, 4, 8]   \n",
       "4                19         [15, 4, 0, 0, 0]   \n",
       "\n",
       "                                            pubished  lname ldesc  \\\n",
       "0  [1998-05-09T04:07:06.000Z, 2010-09-27T17:36:46...      2    21   \n",
       "1  [1998-05-06T02:48:41.000Z, 2005-10-12T17:23:26...      7     9   \n",
       "2  [1998-05-12T13:30:08.000Z, 2006-09-17T04:00:04...      2     5   \n",
       "3  [1998-05-12T17:13:00.000Z, 2003-08-11T23:18:19...      3    44   \n",
       "4  [1998-06-26T21:24:53.000Z, 2005-02-21T13:17:36...      2    20   \n",
       "\n",
       "  lingredients                 published  \n",
       "0           10  1998-05-09T04:07:06.000Z  \n",
       "1            6  1998-05-06T02:48:41.000Z  \n",
       "2            7  1998-05-12T13:30:08.000Z  \n",
       "3            9  1998-05-12T17:13:00.000Z  \n",
       "4           23  1998-06-26T21:24:53.000Z  \n",
       "\n",
       "[5 rows x 23 columns]"
      ]
     },
     "execution_count": 27,
     "metadata": {},
     "output_type": "execute_result"
    }
   ],
   "source": [
    "df.head()"
   ]
  },
  {
   "cell_type": "code",
   "execution_count": 55,
   "metadata": {},
   "outputs": [
    {
     "data": {
      "text/html": [
       "<div>\n",
       "<style scoped>\n",
       "    .dataframe tbody tr th:only-of-type {\n",
       "        vertical-align: middle;\n",
       "    }\n",
       "\n",
       "    .dataframe tbody tr th {\n",
       "        vertical-align: top;\n",
       "    }\n",
       "\n",
       "    .dataframe thead th {\n",
       "        text-align: right;\n",
       "    }\n",
       "</style>\n",
       "<table border=\"1\" class=\"dataframe\">\n",
       "  <thead>\n",
       "    <tr style=\"text-align: right;\">\n",
       "      <th></th>\n",
       "      <th>Recipe Name</th>\n",
       "      <th>Description</th>\n",
       "      <th>Ingredients</th>\n",
       "      <th>Original Recipe Website</th>\n",
       "      <th>Author</th>\n",
       "      <th>Instructions</th>\n",
       "      <th>Total Time</th>\n",
       "      <th>Preperation Time</th>\n",
       "      <th>Cooking Time</th>\n",
       "      <th>Number of Servings</th>\n",
       "      <th>...</th>\n",
       "      <th>Protein per Serving</th>\n",
       "      <th>Cholesterol per Serving</th>\n",
       "      <th>Sodium per Serving</th>\n",
       "      <th>Number of Ratings</th>\n",
       "      <th>Average Rating</th>\n",
       "      <th>pubished</th>\n",
       "      <th>lname</th>\n",
       "      <th>ldesc</th>\n",
       "      <th>lingredients</th>\n",
       "      <th>published</th>\n",
       "    </tr>\n",
       "  </thead>\n",
       "  <tbody>\n",
       "    <tr>\n",
       "      <th>15674</th>\n",
       "      <td>Creamy Sweet Potato Oatmeal</td>\n",
       "      <td>Loaded with sweet potato and warm spices, this...</td>\n",
       "      <td>[1 ¾ cups unsweetened almond milk, 1 pinch sal...</td>\n",
       "      <td>https://www.allrecipes.com/recipe/282439/cream...</td>\n",
       "      <td>Tammy Lynn</td>\n",
       "      <td>[Combine almond milk and salt in a saucepan an...</td>\n",
       "      <td>0 days 00:15:00</td>\n",
       "      <td>0 days 00:05:00</td>\n",
       "      <td>0 days 00:10:00</td>\n",
       "      <td>2</td>\n",
       "      <td>...</td>\n",
       "      <td>9.8g</td>\n",
       "      <td>7.6mg</td>\n",
       "      <td>292.7mg</td>\n",
       "      <td>1</td>\n",
       "      <td>[1, 0, 0, 0, 0]</td>\n",
       "      <td>[2020-11-23T08:26:42.000Z, 2020-12-16T20:26:26...</td>\n",
       "      <td>4</td>\n",
       "      <td>42</td>\n",
       "      <td>11</td>\n",
       "      <td>2020-11-23T08:26:42.000Z</td>\n",
       "    </tr>\n",
       "  </tbody>\n",
       "</table>\n",
       "<p>1 rows × 23 columns</p>\n",
       "</div>"
      ],
      "text/plain": [
       "                       Recipe Name  \\\n",
       "15674  Creamy Sweet Potato Oatmeal   \n",
       "\n",
       "                                             Description  \\\n",
       "15674  Loaded with sweet potato and warm spices, this...   \n",
       "\n",
       "                                             Ingredients  \\\n",
       "15674  [1 ¾ cups unsweetened almond milk, 1 pinch sal...   \n",
       "\n",
       "                                 Original Recipe Website      Author  \\\n",
       "15674  https://www.allrecipes.com/recipe/282439/cream...  Tammy Lynn   \n",
       "\n",
       "                                            Instructions      Total Time  \\\n",
       "15674  [Combine almond milk and salt in a saucepan an... 0 days 00:15:00   \n",
       "\n",
       "      Preperation Time    Cooking Time  Number of Servings  ...  \\\n",
       "15674  0 days 00:05:00 0 days 00:10:00                   2  ...   \n",
       "\n",
       "      Protein per Serving Cholesterol per Serving  Sodium per Serving  \\\n",
       "15674                9.8g                   7.6mg             292.7mg   \n",
       "\n",
       "      Number of Ratings   Average Rating  \\\n",
       "15674                 1  [1, 0, 0, 0, 0]   \n",
       "\n",
       "                                                pubished  lname ldesc  \\\n",
       "15674  [2020-11-23T08:26:42.000Z, 2020-12-16T20:26:26...      4    42   \n",
       "\n",
       "      lingredients                 published  \n",
       "15674           11  2020-11-23T08:26:42.000Z  \n",
       "\n",
       "[1 rows x 23 columns]"
      ]
     },
     "execution_count": 55,
     "metadata": {},
     "output_type": "execute_result"
    }
   ],
   "source": [
    "df[df['published']==max(df['published'])]"
   ]
  },
  {
   "cell_type": "code",
   "execution_count": 28,
   "metadata": {},
   "outputs": [
    {
     "data": {
      "text/plain": [
       "Index(['Recipe Name', 'Description', 'Ingredients', 'Original Recipe Website',\n",
       "       'Author', 'Instructions', 'Total Time', 'Preperation Time',\n",
       "       'Cooking Time', 'Number of Servings', 'Calories per Serving',\n",
       "       'Fat per Serving', 'Carbohydrates per Serving', 'Protein per Serving',\n",
       "       'Cholesterol per Serving', 'Sodium per Serving', 'Number of Ratings',\n",
       "       'Average Rating', 'pubished', 'lname', 'ldesc', 'lingredients',\n",
       "       'published'],\n",
       "      dtype='object')"
      ]
     },
     "execution_count": 28,
     "metadata": {},
     "output_type": "execute_result"
    }
   ],
   "source": [
    "df.columns"
   ]
  },
  {
   "cell_type": "code",
   "execution_count": 136,
   "metadata": {},
   "outputs": [],
   "source": [
    "df2 = df[['Recipe Name','Number of Ratings','lname','ldesc','lingredients','Number of Servings','Total Time','Preperation Time','Cooking Time','Calories per Serving','Carbohydrates per Serving','published']]"
   ]
  },
  {
   "cell_type": "code",
   "execution_count": 137,
   "metadata": {},
   "outputs": [
    {
     "name": "stderr",
     "output_type": "stream",
     "text": [
      "J:\\Anaconda\\lib\\site-packages\\ipykernel_launcher.py:1: SettingWithCopyWarning: \n",
      "A value is trying to be set on a copy of a slice from a DataFrame.\n",
      "Try using .loc[row_indexer,col_indexer] = value instead\n",
      "\n",
      "See the caveats in the documentation: https://pandas.pydata.org/pandas-docs/stable/user_guide/indexing.html#returning-a-view-versus-a-copy\n",
      "  \"\"\"Entry point for launching an IPython kernel.\n",
      "J:\\Anaconda\\lib\\site-packages\\ipykernel_launcher.py:2: SettingWithCopyWarning: \n",
      "A value is trying to be set on a copy of a slice from a DataFrame.\n",
      "Try using .loc[row_indexer,col_indexer] = value instead\n",
      "\n",
      "See the caveats in the documentation: https://pandas.pydata.org/pandas-docs/stable/user_guide/indexing.html#returning-a-view-versus-a-copy\n",
      "  \n",
      "J:\\Anaconda\\lib\\site-packages\\ipykernel_launcher.py:3: SettingWithCopyWarning: \n",
      "A value is trying to be set on a copy of a slice from a DataFrame.\n",
      "Try using .loc[row_indexer,col_indexer] = value instead\n",
      "\n",
      "See the caveats in the documentation: https://pandas.pydata.org/pandas-docs/stable/user_guide/indexing.html#returning-a-view-versus-a-copy\n",
      "  This is separate from the ipykernel package so we can avoid doing imports until\n",
      "J:\\Anaconda\\lib\\site-packages\\ipykernel_launcher.py:4: SettingWithCopyWarning: \n",
      "A value is trying to be set on a copy of a slice from a DataFrame.\n",
      "Try using .loc[row_indexer,col_indexer] = value instead\n",
      "\n",
      "See the caveats in the documentation: https://pandas.pydata.org/pandas-docs/stable/user_guide/indexing.html#returning-a-view-versus-a-copy\n",
      "  after removing the cwd from sys.path.\n"
     ]
    },
    {
     "data": {
      "text/plain": [
       "16861"
      ]
     },
     "execution_count": 137,
     "metadata": {},
     "output_type": "execute_result"
    }
   ],
   "source": [
    "df2['Total Time'] = df2['Total Time'].apply(lambda x: timedelta.total_seconds(x)/60.)\n",
    "df2['Preperation Time'] = df2['Preperation Time'].apply(lambda x: timedelta.total_seconds(x)/60.)\n",
    "df2['Cooking Time'] = df2['Cooking Time'].apply(lambda x: timedelta.total_seconds(x)/60.)\n",
    "df2['published'] = df2.published.apply(np.datetime64)\n",
    "max(df2['Number of Ratings'])"
   ]
  },
  {
   "cell_type": "code",
   "execution_count": 58,
   "metadata": {},
   "outputs": [
    {
     "data": {
      "text/html": [
       "<div>\n",
       "<style scoped>\n",
       "    .dataframe tbody tr th:only-of-type {\n",
       "        vertical-align: middle;\n",
       "    }\n",
       "\n",
       "    .dataframe tbody tr th {\n",
       "        vertical-align: top;\n",
       "    }\n",
       "\n",
       "    .dataframe thead th {\n",
       "        text-align: right;\n",
       "    }\n",
       "</style>\n",
       "<table border=\"1\" class=\"dataframe\">\n",
       "  <thead>\n",
       "    <tr style=\"text-align: right;\">\n",
       "      <th></th>\n",
       "      <th>Recipe Name</th>\n",
       "      <th>Description</th>\n",
       "      <th>Ingredients</th>\n",
       "      <th>Original Recipe Website</th>\n",
       "      <th>Author</th>\n",
       "      <th>Instructions</th>\n",
       "      <th>Total Time</th>\n",
       "      <th>Preperation Time</th>\n",
       "      <th>Cooking Time</th>\n",
       "      <th>Number of Servings</th>\n",
       "      <th>...</th>\n",
       "      <th>Protein per Serving</th>\n",
       "      <th>Cholesterol per Serving</th>\n",
       "      <th>Sodium per Serving</th>\n",
       "      <th>Number of Ratings</th>\n",
       "      <th>Average Rating</th>\n",
       "      <th>pubished</th>\n",
       "      <th>lname</th>\n",
       "      <th>ldesc</th>\n",
       "      <th>lingredients</th>\n",
       "      <th>published</th>\n",
       "    </tr>\n",
       "  </thead>\n",
       "  <tbody>\n",
       "    <tr>\n",
       "      <th>15674</th>\n",
       "      <td>Creamy Sweet Potato Oatmeal</td>\n",
       "      <td>Loaded with sweet potato and warm spices, this...</td>\n",
       "      <td>[1 ¾ cups unsweetened almond milk, 1 pinch sal...</td>\n",
       "      <td>https://www.allrecipes.com/recipe/282439/cream...</td>\n",
       "      <td>Tammy Lynn</td>\n",
       "      <td>[Combine almond milk and salt in a saucepan an...</td>\n",
       "      <td>0 days 00:15:00</td>\n",
       "      <td>0 days 00:05:00</td>\n",
       "      <td>0 days 00:10:00</td>\n",
       "      <td>2</td>\n",
       "      <td>...</td>\n",
       "      <td>9.8g</td>\n",
       "      <td>7.6mg</td>\n",
       "      <td>292.7mg</td>\n",
       "      <td>1</td>\n",
       "      <td>[1, 0, 0, 0, 0]</td>\n",
       "      <td>[2020-11-23T08:26:42.000Z, 2020-12-16T20:26:26...</td>\n",
       "      <td>4</td>\n",
       "      <td>42</td>\n",
       "      <td>11</td>\n",
       "      <td>2020-11-23T08:26:42.000Z</td>\n",
       "    </tr>\n",
       "  </tbody>\n",
       "</table>\n",
       "<p>1 rows × 23 columns</p>\n",
       "</div>"
      ],
      "text/plain": [
       "                       Recipe Name  \\\n",
       "15674  Creamy Sweet Potato Oatmeal   \n",
       "\n",
       "                                             Description  \\\n",
       "15674  Loaded with sweet potato and warm spices, this...   \n",
       "\n",
       "                                             Ingredients  \\\n",
       "15674  [1 ¾ cups unsweetened almond milk, 1 pinch sal...   \n",
       "\n",
       "                                 Original Recipe Website      Author  \\\n",
       "15674  https://www.allrecipes.com/recipe/282439/cream...  Tammy Lynn   \n",
       "\n",
       "                                            Instructions      Total Time  \\\n",
       "15674  [Combine almond milk and salt in a saucepan an... 0 days 00:15:00   \n",
       "\n",
       "      Preperation Time    Cooking Time  Number of Servings  ...  \\\n",
       "15674  0 days 00:05:00 0 days 00:10:00                   2  ...   \n",
       "\n",
       "      Protein per Serving Cholesterol per Serving  Sodium per Serving  \\\n",
       "15674                9.8g                   7.6mg             292.7mg   \n",
       "\n",
       "      Number of Ratings   Average Rating  \\\n",
       "15674                 1  [1, 0, 0, 0, 0]   \n",
       "\n",
       "                                                pubished  lname ldesc  \\\n",
       "15674  [2020-11-23T08:26:42.000Z, 2020-12-16T20:26:26...      4    42   \n",
       "\n",
       "      lingredients                 published  \n",
       "15674           11  2020-11-23T08:26:42.000Z  \n",
       "\n",
       "[1 rows x 23 columns]"
      ]
     },
     "execution_count": 58,
     "metadata": {},
     "output_type": "execute_result"
    }
   ],
   "source": [
    "df[df['published']==max(df['published'])]"
   ]
  },
  {
   "cell_type": "code",
   "execution_count": 37,
   "metadata": {},
   "outputs": [
    {
     "name": "stderr",
     "output_type": "stream",
     "text": [
      "J:\\Anaconda\\lib\\site-packages\\ipykernel_launcher.py:1: SettingWithCopyWarning: \n",
      "A value is trying to be set on a copy of a slice from a DataFrame.\n",
      "Try using .loc[row_indexer,col_indexer] = value instead\n",
      "\n",
      "See the caveats in the documentation: https://pandas.pydata.org/pandas-docs/stable/user_guide/indexing.html#returning-a-view-versus-a-copy\n",
      "  \"\"\"Entry point for launching an IPython kernel.\n"
     ]
    }
   ],
   "source": [
    "df2['rate'] = np.where(df2['Number of Ratings'] >= 100, 1, 0)\n",
    "df4 = df2.copy()\n",
    "df3 = df2[df2['Number of Ratings'] < 10]\n",
    "df2 = df2[df2['Number of Ratings'] >= 10]"
   ]
  },
  {
   "cell_type": "code",
   "execution_count": 138,
   "metadata": {},
   "outputs": [
    {
     "name": "stdout",
     "output_type": "stream",
     "text": [
      "9000 4490\n"
     ]
    },
    {
     "name": "stderr",
     "output_type": "stream",
     "text": [
      "J:\\Anaconda\\lib\\site-packages\\ipykernel_launcher.py:1: SettingWithCopyWarning: \n",
      "A value is trying to be set on a copy of a slice from a DataFrame.\n",
      "Try using .loc[row_indexer,col_indexer] = value instead\n",
      "\n",
      "See the caveats in the documentation: https://pandas.pydata.org/pandas-docs/stable/user_guide/indexing.html#returning-a-view-versus-a-copy\n",
      "  \"\"\"Entry point for launching an IPython kernel.\n"
     ]
    },
    {
     "data": {
      "text/plain": [
       "2"
      ]
     },
     "execution_count": 138,
     "metadata": {},
     "output_type": "execute_result"
    }
   ],
   "source": [
    "df2['rate'] = np.where(df2['Number of Ratings'] >= 20, np.where(df2['Number of Ratings'] >= 100, 2, 1),0 )\n",
    "df4 = df2.copy()\n",
    "df3 = df2[(df2['published'] > np.datetime64('2019-01-01'))& (df2['published'] < np.datetime64('2020-01-01') )]\n",
    "df2 = df2[(df2['published'] <= np.datetime64('2019-01-01')) ]\n",
    "print(len(df2),len(df3))\n",
    "max(df2['rate'])"
   ]
  },
  {
   "cell_type": "code",
   "execution_count": 24,
   "metadata": {},
   "outputs": [
    {
     "data": {
      "image/png": "[encoded data removed]",
      "text/plain": [
       "<Figure size 576x576 with 100 Axes>"
      ]
     },
     "metadata": {
      "needs_background": "light"
     },
     "output_type": "display_data"
    }
   ],
   "source": [
    "pd.plotting.scatter_matrix(df2, alpha=0.2, figsize=(8, 8), diagonal='hist');\n"
   ]
  },
  {
   "cell_type": "code",
   "execution_count": 139,
   "metadata": {},
   "outputs": [],
   "source": [
    "from sklearn.model_selection import GridSearchCV\n",
    "from sklearn.ensemble import RandomForestClassifier\n",
    "from sklearn import metrics\n",
    "from sklearn.pipeline import Pipeline\n",
    "from sklearn.model_selection import train_test_split\n",
    "from sklearn.model_selection import cross_val_score\n",
    "from sklearn.tree import DecisionTreeRegressor\n",
    "from sklearn.utils import shuffle\n",
    "import numpy as np\n",
    "from sklearn.preprocessing import StandardScaler"
   ]
  },
  {
   "cell_type": "code",
   "execution_count": 160,
   "metadata": {},
   "outputs": [],
   "source": [
    "model = Pipeline([('ss',StandardScaler()),\n",
    "                    ('rf',GridSearchCV(\n",
    "                   RandomForestClassifier(),\n",
    "                    {'n_estimators':[3000],'criterion':['entropy'],\n",
    "                    'min_samples_split':[60],'max_features':['sqrt','log2','None']},\n",
    "                    cv=10,\n",
    "                    n_jobs=10))])"
   ]
  },
  {
   "cell_type": "code",
   "execution_count": 161,
   "metadata": {},
   "outputs": [],
   "source": [
    "X = np.array(df2[['lname','ldesc','lingredients','Number of Servings','Total Time','Preperation Time','Cooking Time','Calories per Serving','Carbohydrates per Serving']])\n",
    "y = np.array(df2['rate'])"
   ]
  },
  {
   "cell_type": "code",
   "execution_count": 162,
   "metadata": {},
   "outputs": [],
   "source": [
    "X_train,X_test,y_train,y_test = train_test_split(X,y,test_size = 0.2)\n",
    "X_random, y_random = shuffle(X,y)"
   ]
  },
  {
   "cell_type": "code",
   "execution_count": 163,
   "metadata": {},
   "outputs": [
    {
     "data": {
      "text/plain": [
       "Pipeline(steps=[('ss', StandardScaler()),\n",
       "                ('rf',\n",
       "                 GridSearchCV(cv=10, estimator=RandomForestClassifier(),\n",
       "                              n_jobs=10,\n",
       "                              param_grid={'criterion': ['entropy'],\n",
       "                                          'max_features': ['sqrt', 'log2',\n",
       "                                                           'None'],\n",
       "                                          'min_samples_split': [60],\n",
       "                                          'n_estimators': [3000]}))])"
      ]
     },
     "execution_count": 163,
     "metadata": {},
     "output_type": "execute_result"
    }
   ],
   "source": [
    "model.fit(X,y)"
   ]
  },
  {
   "cell_type": "code",
   "execution_count": 164,
   "metadata": {},
   "outputs": [
    {
     "data": {
      "text/plain": [
       "0.6277777777777778"
      ]
     },
     "execution_count": 164,
     "metadata": {},
     "output_type": "execute_result"
    }
   ],
   "source": [
    "model.score(X,y)"
   ]
  },
  {
   "cell_type": "code",
   "execution_count": null,
   "metadata": {},
   "outputs": [],
   "source": [
    "model.score"
   ]
  },
  {
   "cell_type": "code",
   "execution_count": 46,
   "metadata": {},
   "outputs": [],
   "source": [
    "predict = model.predict(X_test)"
   ]
  },
  {
   "cell_type": "code",
   "execution_count": 168,
   "metadata": {},
   "outputs": [
    {
     "data": {
      "text/plain": [
       "RandomForestClassifier(criterion='entropy', max_features='log2',\n",
       "                       min_samples_split=60, n_estimators=3000)"
      ]
     },
     "execution_count": 168,
     "metadata": {},
     "output_type": "execute_result"
    }
   ],
   "source": [
    "model['rf'].best_estimator_"
   ]
  },
  {
   "cell_type": "code",
   "execution_count": 207,
   "metadata": {},
   "outputs": [],
   "source": [
    "model = Pipeline([('ss',StandardScaler()),\n",
    "                  ('rf',\n",
    "                   RandomForestClassifier(n_estimators = 800,criterion = 'entropy',min_samples_split = 50)\n",
    "                  )])"
   ]
  },
  {
   "cell_type": "code",
   "execution_count": 208,
   "metadata": {},
   "outputs": [
    {
     "data": {
      "text/plain": [
       "Pipeline(steps=[('ss', StandardScaler()),\n",
       "                ('rf',\n",
       "                 RandomForestClassifier(criterion='entropy',\n",
       "                                        min_samples_split=50,\n",
       "                                        n_estimators=800))])"
      ]
     },
     "execution_count": 208,
     "metadata": {},
     "output_type": "execute_result"
    }
   ],
   "source": [
    "model.fit(X,y)"
   ]
  },
  {
   "cell_type": "code",
   "execution_count": 167,
   "metadata": {},
   "outputs": [
    {
     "name": "stdout",
     "output_type": "stream",
     "text": [
      "              precision    recall  f1-score   support\n",
      "\n",
      "           0     0.5405    0.8585    0.6634      2339\n",
      "           1     0.3574    0.1614    0.2223      1413\n",
      "           2     0.2482    0.0461    0.0777       738\n",
      "\n",
      "    accuracy                         0.5056      4490\n",
      "   macro avg     0.3820    0.3553    0.3211      4490\n",
      "weighted avg     0.4348    0.5056    0.4283      4490\n",
      "\n"
     ]
    },
    {
     "data": {
      "text/plain": [
       "2"
      ]
     },
     "execution_count": 167,
     "metadata": {},
     "output_type": "execute_result"
    }
   ],
   "source": [
    "from sklearn.metrics import classification_report\n",
    "from sklearn.metrics import accuracy_score\n",
    "y_pred = model.predict(X2)\n",
    "print(classification_report(y2, y_pred, digits=4))\n",
    "max(y)"
   ]
  },
  {
   "cell_type": "code",
   "execution_count": 166,
   "metadata": {},
   "outputs": [
    {
     "data": {
      "text/plain": [
       "0.5055679287305123"
      ]
     },
     "execution_count": 166,
     "metadata": {},
     "output_type": "execute_result"
    }
   ],
   "source": [
    "model.score(X2,y2)"
   ]
  },
  {
   "cell_type": "code",
   "execution_count": 51,
   "metadata": {},
   "outputs": [],
   "source": [
    "model.predict(X2)\n",
    "df3['predict'] = model.predict(X2)"
   ]
  },
  {
   "cell_type": "code",
   "execution_count": 165,
   "metadata": {},
   "outputs": [],
   "source": [
    "X2 = np.array(df3[['lname','ldesc','lingredients','Number of Servings','Total Time','Preperation Time','Cooking Time','Calories per Serving','Carbohydrates per Serving']])\n",
    "y2 = np.array(df3['rate'])"
   ]
  },
  {
   "cell_type": "code",
   "execution_count": 52,
   "metadata": {},
   "outputs": [
    {
     "data": {
      "text/html": [
       "<div>\n",
       "<style scoped>\n",
       "    .dataframe tbody tr th:only-of-type {\n",
       "        vertical-align: middle;\n",
       "    }\n",
       "\n",
       "    .dataframe tbody tr th {\n",
       "        vertical-align: top;\n",
       "    }\n",
       "\n",
       "    .dataframe thead th {\n",
       "        text-align: right;\n",
       "    }\n",
       "</style>\n",
       "<table border=\"1\" class=\"dataframe\">\n",
       "  <thead>\n",
       "    <tr style=\"text-align: right;\">\n",
       "      <th></th>\n",
       "      <th>Recipe Name</th>\n",
       "      <th>Number of Ratings</th>\n",
       "      <th>lname</th>\n",
       "      <th>ldesc</th>\n",
       "      <th>lingredients</th>\n",
       "      <th>Number of Servings</th>\n",
       "      <th>Total Time</th>\n",
       "      <th>Preperation Time</th>\n",
       "      <th>Cooking Time</th>\n",
       "      <th>Calories per Serving</th>\n",
       "      <th>Carbohydrates per Serving</th>\n",
       "      <th>published</th>\n",
       "      <th>rate</th>\n",
       "      <th>predict</th>\n",
       "    </tr>\n",
       "  </thead>\n",
       "  <tbody>\n",
       "    <tr>\n",
       "      <th>15436</th>\n",
       "      <td>Slow Cooker Teriyaki Pulled Pork</td>\n",
       "      <td>2</td>\n",
       "      <td>5</td>\n",
       "      <td>33</td>\n",
       "      <td>7</td>\n",
       "      <td>12</td>\n",
       "      <td>565.0</td>\n",
       "      <td>5.0</td>\n",
       "      <td>540.0</td>\n",
       "      <td>292</td>\n",
       "      <td>3.9</td>\n",
       "      <td>2020-05-16T11:24:40.000</td>\n",
       "      <td>0</td>\n",
       "      <td>1</td>\n",
       "    </tr>\n",
       "  </tbody>\n",
       "</table>\n",
       "</div>"
      ],
      "text/plain": [
       "                            Recipe Name  Number of Ratings  lname  ldesc  \\\n",
       "15436  Slow Cooker Teriyaki Pulled Pork                  2      5     33   \n",
       "\n",
       "       lingredients  Number of Servings  Total Time  Preperation Time  \\\n",
       "15436             7                  12       565.0               5.0   \n",
       "\n",
       "       Cooking Time Calories per Serving  Carbohydrates per Serving  \\\n",
       "15436         540.0                  292                        3.9   \n",
       "\n",
       "                     published  rate  predict  \n",
       "15436  2020-05-16T11:24:40.000     0        1  "
      ]
     },
     "execution_count": 52,
     "metadata": {},
     "output_type": "execute_result"
    }
   ],
   "source": [
    "df3[df3['predict'] == 1]"
   ]
  },
  {
   "cell_type": "code",
   "execution_count": 273,
   "metadata": {},
   "outputs": [
    {
     "data": {
      "text/html": [
       "<div>\n",
       "<style scoped>\n",
       "    .dataframe tbody tr th:only-of-type {\n",
       "        vertical-align: middle;\n",
       "    }\n",
       "\n",
       "    .dataframe tbody tr th {\n",
       "        vertical-align: top;\n",
       "    }\n",
       "\n",
       "    .dataframe thead th {\n",
       "        text-align: right;\n",
       "    }\n",
       "</style>\n",
       "<table border=\"1\" class=\"dataframe\">\n",
       "  <thead>\n",
       "    <tr style=\"text-align: right;\">\n",
       "      <th></th>\n",
       "      <th>Recipe Name</th>\n",
       "      <th>Description</th>\n",
       "      <th>Ingredients</th>\n",
       "      <th>Original Recipe Website</th>\n",
       "      <th>Author</th>\n",
       "      <th>Instructions</th>\n",
       "      <th>Total Time</th>\n",
       "      <th>Preperation Time</th>\n",
       "      <th>Cooking Time</th>\n",
       "      <th>Number of Servings</th>\n",
       "      <th>...</th>\n",
       "      <th>Fat per Serving</th>\n",
       "      <th>Carbohydrates per Serving</th>\n",
       "      <th>Protein per Serving</th>\n",
       "      <th>Cholesterol per Serving</th>\n",
       "      <th>Sodium per Serving</th>\n",
       "      <th>Number of Ratings</th>\n",
       "      <th>Average Rating</th>\n",
       "      <th>lname</th>\n",
       "      <th>ldesc</th>\n",
       "      <th>lingredients</th>\n",
       "    </tr>\n",
       "  </thead>\n",
       "  <tbody>\n",
       "    <tr>\n",
       "      <th>12085</th>\n",
       "      <td>Chicken Thigh Roll-Ups</td>\n",
       "      <td>I made these the other day after buying some t...</td>\n",
       "      <td>[cooking spray, 12  skinless, boneless chicken...</td>\n",
       "      <td>https://www.allrecipes.com/recipe/257323/chick...</td>\n",
       "      <td>MIDNIGHT2157</td>\n",
       "      <td>[Preheat oven to 400 degrees F (200 degrees C)...</td>\n",
       "      <td>0 days 00:55:00</td>\n",
       "      <td>0 days 00:15:00</td>\n",
       "      <td>0 days 00:40:00</td>\n",
       "      <td>6</td>\n",
       "      <td>...</td>\n",
       "      <td>28.4g</td>\n",
       "      <td>2.3</td>\n",
       "      <td>49.5g</td>\n",
       "      <td>173.9mg</td>\n",
       "      <td>654.9mg</td>\n",
       "      <td>3</td>\n",
       "      <td>[3, 0, 0, 0, 0]</td>\n",
       "      <td>3</td>\n",
       "      <td>30</td>\n",
       "      <td>6</td>\n",
       "    </tr>\n",
       "  </tbody>\n",
       "</table>\n",
       "<p>1 rows × 21 columns</p>\n",
       "</div>"
      ],
      "text/plain": [
       "                  Recipe Name  \\\n",
       "12085  Chicken Thigh Roll-Ups   \n",
       "\n",
       "                                             Description  \\\n",
       "12085  I made these the other day after buying some t...   \n",
       "\n",
       "                                             Ingredients  \\\n",
       "12085  [cooking spray, 12  skinless, boneless chicken...   \n",
       "\n",
       "                                 Original Recipe Website        Author  \\\n",
       "12085  https://www.allrecipes.com/recipe/257323/chick...  MIDNIGHT2157   \n",
       "\n",
       "                                            Instructions      Total Time  \\\n",
       "12085  [Preheat oven to 400 degrees F (200 degrees C)... 0 days 00:55:00   \n",
       "\n",
       "      Preperation Time    Cooking Time  Number of Servings  ...  \\\n",
       "12085  0 days 00:15:00 0 days 00:40:00                   6  ...   \n",
       "\n",
       "      Fat per Serving Carbohydrates per Serving  Protein per Serving  \\\n",
       "12085           28.4g                       2.3                49.5g   \n",
       "\n",
       "      Cholesterol per Serving Sodium per Serving Number of Ratings  \\\n",
       "12085                 173.9mg            654.9mg                 3   \n",
       "\n",
       "        Average Rating lname  ldesc  lingredients  \n",
       "12085  [3, 0, 0, 0, 0]     3     30             6  \n",
       "\n",
       "[1 rows x 21 columns]"
      ]
     },
     "execution_count": 273,
     "metadata": {},
     "output_type": "execute_result"
    }
   ],
   "source": [
    "df[df['Recipe Name'] == 'Chicken Thigh Roll-Ups']"
   ]
  },
  {
   "cell_type": "code",
   "execution_count": 276,
   "metadata": {},
   "outputs": [
    {
     "data": {
      "text/plain": [
       "19"
      ]
     },
     "execution_count": 276,
     "metadata": {},
     "output_type": "execute_result"
    }
   ],
   "source": [
    "len(df3[df3['predict'] == 1])"
   ]
  },
  {
   "cell_type": "code",
   "execution_count": 61,
   "metadata": {},
   "outputs": [],
   "source": [
    "df4 =df4.rename(columns={'Calories per Serving':'Calories/Serving','lingredients':'Number of Ingredients','lname':'Words in Name'})"
   ]
  },
  {
   "cell_type": "code",
   "execution_count": 68,
   "metadata": {},
   "outputs": [
    {
     "data": {
      "text/html": [
       "<div>\n",
       "<style scoped>\n",
       "    .dataframe tbody tr th:only-of-type {\n",
       "        vertical-align: middle;\n",
       "    }\n",
       "\n",
       "    .dataframe tbody tr th {\n",
       "        vertical-align: top;\n",
       "    }\n",
       "\n",
       "    .dataframe thead th {\n",
       "        text-align: right;\n",
       "    }\n",
       "</style>\n",
       "<table border=\"1\" class=\"dataframe\">\n",
       "  <thead>\n",
       "    <tr style=\"text-align: right;\">\n",
       "      <th></th>\n",
       "      <th>Recipe Name</th>\n",
       "      <th>Number of Ratings</th>\n",
       "      <th>Words in Name</th>\n",
       "      <th>ldesc</th>\n",
       "      <th>Number of Ingredients</th>\n",
       "      <th>Number of Servings</th>\n",
       "      <th>Total Time</th>\n",
       "      <th>Preperation Time</th>\n",
       "      <th>Cooking Time</th>\n",
       "      <th>Calories/Serving</th>\n",
       "      <th>Carbohydrates per Serving</th>\n",
       "      <th>rate</th>\n",
       "    </tr>\n",
       "  </thead>\n",
       "  <tbody>\n",
       "    <tr>\n",
       "      <th>0</th>\n",
       "      <td>Orange Buns</td>\n",
       "      <td>7</td>\n",
       "      <td>2</td>\n",
       "      <td>21</td>\n",
       "      <td>10</td>\n",
       "      <td>30</td>\n",
       "      <td>170.0</td>\n",
       "      <td>45.0</td>\n",
       "      <td>20.0</td>\n",
       "      <td>141</td>\n",
       "      <td>25.0</td>\n",
       "      <td>0</td>\n",
       "    </tr>\n",
       "    <tr>\n",
       "      <th>1</th>\n",
       "      <td>The Best Corn Bread You'll Ever Eat</td>\n",
       "      <td>87</td>\n",
       "      <td>7</td>\n",
       "      <td>9</td>\n",
       "      <td>6</td>\n",
       "      <td>8</td>\n",
       "      <td>35.0</td>\n",
       "      <td>5.0</td>\n",
       "      <td>30.0</td>\n",
       "      <td>328</td>\n",
       "      <td>40.8</td>\n",
       "      <td>0</td>\n",
       "    </tr>\n",
       "    <tr>\n",
       "      <th>2</th>\n",
       "      <td>Banana Bread</td>\n",
       "      <td>1655</td>\n",
       "      <td>2</td>\n",
       "      <td>5</td>\n",
       "      <td>7</td>\n",
       "      <td>16</td>\n",
       "      <td>75.0</td>\n",
       "      <td>15.0</td>\n",
       "      <td>60.0</td>\n",
       "      <td>145</td>\n",
       "      <td>26.5</td>\n",
       "      <td>1</td>\n",
       "    </tr>\n",
       "    <tr>\n",
       "      <th>3</th>\n",
       "      <td>Mother's Banana Bread</td>\n",
       "      <td>293</td>\n",
       "      <td>3</td>\n",
       "      <td>44</td>\n",
       "      <td>9</td>\n",
       "      <td>12</td>\n",
       "      <td>75.0</td>\n",
       "      <td>15.0</td>\n",
       "      <td>60.0</td>\n",
       "      <td>216</td>\n",
       "      <td>30.3</td>\n",
       "      <td>1</td>\n",
       "    </tr>\n",
       "    <tr>\n",
       "      <th>4</th>\n",
       "      <td>Babka I</td>\n",
       "      <td>19</td>\n",
       "      <td>2</td>\n",
       "      <td>20</td>\n",
       "      <td>23</td>\n",
       "      <td>24</td>\n",
       "      <td>295.0</td>\n",
       "      <td>45.0</td>\n",
       "      <td>40.0</td>\n",
       "      <td>490</td>\n",
       "      <td>80.5</td>\n",
       "      <td>0</td>\n",
       "    </tr>\n",
       "    <tr>\n",
       "      <th>...</th>\n",
       "      <td>...</td>\n",
       "      <td>...</td>\n",
       "      <td>...</td>\n",
       "      <td>...</td>\n",
       "      <td>...</td>\n",
       "      <td>...</td>\n",
       "      <td>...</td>\n",
       "      <td>...</td>\n",
       "      <td>...</td>\n",
       "      <td>...</td>\n",
       "      <td>...</td>\n",
       "      <td>...</td>\n",
       "    </tr>\n",
       "    <tr>\n",
       "      <th>19125</th>\n",
       "      <td>Stuffed Peppers Italian Style</td>\n",
       "      <td>22</td>\n",
       "      <td>4</td>\n",
       "      <td>18</td>\n",
       "      <td>11</td>\n",
       "      <td>8</td>\n",
       "      <td>90.0</td>\n",
       "      <td>30.0</td>\n",
       "      <td>60.0</td>\n",
       "      <td>246</td>\n",
       "      <td>35.3</td>\n",
       "      <td>0</td>\n",
       "    </tr>\n",
       "    <tr>\n",
       "      <th>19126</th>\n",
       "      <td>Breaded Turkey Breasts</td>\n",
       "      <td>89</td>\n",
       "      <td>3</td>\n",
       "      <td>9</td>\n",
       "      <td>6</td>\n",
       "      <td>4</td>\n",
       "      <td>45.0</td>\n",
       "      <td>15.0</td>\n",
       "      <td>30.0</td>\n",
       "      <td>428</td>\n",
       "      <td>22.8</td>\n",
       "      <td>0</td>\n",
       "    </tr>\n",
       "    <tr>\n",
       "      <th>19127</th>\n",
       "      <td>Cally's Omelet</td>\n",
       "      <td>10</td>\n",
       "      <td>2</td>\n",
       "      <td>6</td>\n",
       "      <td>7</td>\n",
       "      <td>2</td>\n",
       "      <td>35.0</td>\n",
       "      <td>10.0</td>\n",
       "      <td>25.0</td>\n",
       "      <td>511</td>\n",
       "      <td>26.0</td>\n",
       "      <td>0</td>\n",
       "    </tr>\n",
       "    <tr>\n",
       "      <th>19128</th>\n",
       "      <td>Filipino Lumpia</td>\n",
       "      <td>43</td>\n",
       "      <td>2</td>\n",
       "      <td>73</td>\n",
       "      <td>7</td>\n",
       "      <td>6</td>\n",
       "      <td>70.0</td>\n",
       "      <td>60.0</td>\n",
       "      <td>10.0</td>\n",
       "      <td>550</td>\n",
       "      <td>42.6</td>\n",
       "      <td>0</td>\n",
       "    </tr>\n",
       "    <tr>\n",
       "      <th>19129</th>\n",
       "      <td>Pizza Sauce and Dough</td>\n",
       "      <td>87</td>\n",
       "      <td>4</td>\n",
       "      <td>13</td>\n",
       "      <td>17</td>\n",
       "      <td>12</td>\n",
       "      <td>120.0</td>\n",
       "      <td>40.0</td>\n",
       "      <td>20.0</td>\n",
       "      <td>84</td>\n",
       "      <td>10.4</td>\n",
       "      <td>0</td>\n",
       "    </tr>\n",
       "  </tbody>\n",
       "</table>\n",
       "<p>19119 rows × 12 columns</p>\n",
       "</div>"
      ],
      "text/plain": [
       "                               Recipe Name  Number of Ratings  Words in Name  \\\n",
       "0                              Orange Buns                  7              2   \n",
       "1      The Best Corn Bread You'll Ever Eat                 87              7   \n",
       "2                             Banana Bread               1655              2   \n",
       "3                    Mother's Banana Bread                293              3   \n",
       "4                                  Babka I                 19              2   \n",
       "...                                    ...                ...            ...   \n",
       "19125        Stuffed Peppers Italian Style                 22              4   \n",
       "19126               Breaded Turkey Breasts                 89              3   \n",
       "19127                       Cally's Omelet                 10              2   \n",
       "19128                      Filipino Lumpia                 43              2   \n",
       "19129                Pizza Sauce and Dough                 87              4   \n",
       "\n",
       "       ldesc  Number of Ingredients  Number of Servings  Total Time  \\\n",
       "0         21                     10                  30       170.0   \n",
       "1          9                      6                   8        35.0   \n",
       "2          5                      7                  16        75.0   \n",
       "3         44                      9                  12        75.0   \n",
       "4         20                     23                  24       295.0   \n",
       "...      ...                    ...                 ...         ...   \n",
       "19125     18                     11                   8        90.0   \n",
       "19126      9                      6                   4        45.0   \n",
       "19127      6                      7                   2        35.0   \n",
       "19128     73                      7                   6        70.0   \n",
       "19129     13                     17                  12       120.0   \n",
       "\n",
       "       Preperation Time  Cooking Time Calories/Serving  \\\n",
       "0                  45.0          20.0              141   \n",
       "1                   5.0          30.0              328   \n",
       "2                  15.0          60.0              145   \n",
       "3                  15.0          60.0              216   \n",
       "4                  45.0          40.0              490   \n",
       "...                 ...           ...              ...   \n",
       "19125              30.0          60.0              246   \n",
       "19126              15.0          30.0              428   \n",
       "19127              10.0          25.0              511   \n",
       "19128              60.0          10.0              550   \n",
       "19129              40.0          20.0               84   \n",
       "\n",
       "       Carbohydrates per Serving  rate  \n",
       "0                           25.0     0  \n",
       "1                           40.8     0  \n",
       "2                           26.5     1  \n",
       "3                           30.3     1  \n",
       "4                           80.5     0  \n",
       "...                          ...   ...  \n",
       "19125                       35.3     0  \n",
       "19126                       22.8     0  \n",
       "19127                       26.0     0  \n",
       "19128                       42.6     0  \n",
       "19129                       10.4     0  \n",
       "\n",
       "[19119 rows x 12 columns]"
      ]
     },
     "execution_count": 68,
     "metadata": {},
     "output_type": "execute_result"
    }
   ],
   "source": [
    "df4"
   ]
  },
  {
   "cell_type": "code",
   "execution_count": 79,
   "metadata": {},
   "outputs": [],
   "source": [
    "import altair as alt\n",
    "url = 'df4.json'\n",
    "df4.to_json(url,orient='records')"
   ]
  },
  {
   "cell_type": "code",
   "execution_count": 87,
   "metadata": {
    "scrolled": true
   },
   "outputs": [],
   "source": [
    "brush = alt.selection_interval(encodings=['y'])\n",
    "\n",
    "repeat_chart = alt.Chart(df4).mark_point().encode(\n",
    "    alt.X(alt.repeat('column'), type='quantitative'),\n",
    "    alt.Y('Number of Ratings:Q'),\n",
    "    color=alt.condition(brush, 'Origin:N', alt.value('lightgray')),\n",
    "    opacity=alt.condition(brush, alt.value(1), alt.value(0.1))\n",
    ").properties(\n",
    "    width=350,\n",
    "    height=350\n",
    ").add_selection(\n",
    "    brush           \n",
    ").repeat(\n",
    "    column=['Calories/Serving', 'Number of Ingredients', 'Words in Name']\n",
    ")\n",
    "\n",
    "\n",
    "repeat_chart.save('chart.html')\n",
    "repeat_chart.save('chart.json')\n",
    "#repeat_chart"
   ]
  },
  {
   "cell_type": "code",
   "execution_count": null,
   "metadata": {},
   "outputs": [],
   "source": []
  }
 ],
 "metadata": {
  "kernelspec": {
   "display_name": "Python 3",
   "language": "python",
   "name": "python3"
  },
  "language_info": {
   "codemirror_mode": {
    "name": "ipython",
    "version": 3
   },
   "file_extension": ".py",
   "mimetype": "text/x-python",
   "name": "python",
   "nbconvert_exporter": "python",
   "pygments_lexer": "ipython3",
   "version": "3.7.3"
  }
 },
 "nbformat": 4,
 "nbformat_minor": 4
}
